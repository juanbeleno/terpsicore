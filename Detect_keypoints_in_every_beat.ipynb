{
 "cells": [
  {
   "cell_type": "code",
   "execution_count": 20,
   "id": "ed0228ef-c2f3-4514-9751-98d5d017ea92",
   "metadata": {},
   "outputs": [
    {
     "name": "stdout",
     "output_type": "stream",
     "text": [
      "Requirement already satisfied: moviepy in c:\\users\\user\\anaconda3\\lib\\site-packages (2.1.2)\n",
      "Requirement already satisfied: decorator<6.0,>=4.0.2 in c:\\users\\user\\anaconda3\\lib\\site-packages (from moviepy) (5.1.1)\n",
      "Requirement already satisfied: imageio<3.0,>=2.5 in c:\\users\\user\\anaconda3\\lib\\site-packages (from moviepy) (2.33.1)\n",
      "Requirement already satisfied: imageio_ffmpeg>=0.2.0 in c:\\users\\user\\anaconda3\\lib\\site-packages (from moviepy) (0.6.0)\n",
      "Requirement already satisfied: numpy>=1.25.0 in c:\\users\\user\\anaconda3\\lib\\site-packages (from moviepy) (1.26.4)\n",
      "Requirement already satisfied: proglog<=1.0.0 in c:\\users\\user\\anaconda3\\lib\\site-packages (from moviepy) (0.1.11)\n",
      "Requirement already satisfied: python-dotenv>=0.10 in c:\\users\\user\\anaconda3\\lib\\site-packages (from moviepy) (0.21.0)\n",
      "Requirement already satisfied: pillow<11.0,>=9.2.0 in c:\\users\\user\\anaconda3\\lib\\site-packages (from moviepy) (10.4.0)\n",
      "Requirement already satisfied: tqdm in c:\\users\\user\\anaconda3\\lib\\site-packages (from proglog<=1.0.0->moviepy) (4.66.5)\n",
      "Requirement already satisfied: colorama in c:\\users\\user\\anaconda3\\lib\\site-packages (from tqdm->proglog<=1.0.0->moviepy) (0.4.6)\n"
     ]
    }
   ],
   "source": [
    "#!pip install rtmlib==0.0.13\n",
    "#!pip install opencv-python==4.11.0.86\n",
    "#!pip install librosa==0.11.0\n",
    "#!pip install Cython==3.0.12\n",
    "# Microsoft Visual C++ 14.0 or greater is required.\n",
    "# Get it with \"Microsoft C++ Build Tools\": https://visualstudio.microsoft.com/visual-cpp-build-tools/\n",
    "# The pip version of madmon is outdated and the github repo has many changes recently\n",
    "#!pip uninstall -y madmom\n",
    "#!conda install git+https://github.com/CPJKU/madmom.git\n",
    "#!cd madmom && python setup.py develop --user\n",
    "#!pip install pyaudio==0.2.14\n",
    "#!pip install beatnet==1.1.1\n",
    "#!pip install soundfile==0.13.1\n",
    "# Install FFmpeg in Windows\n",
    "# Source: https://phoenixnap.com/kb/ffmpeg-windows\n",
    "#!pip cache purge\n",
    "#!pip install moviepy==2.1.1"
   ]
  },
  {
   "cell_type": "code",
   "execution_count": 19,
   "id": "2ee1ae08-e715-4d65-bbd8-9dea012017f0",
   "metadata": {},
   "outputs": [],
   "source": [
    "import os\n",
    "\n",
    "move_filename = '29a07de'\n",
    "moves_filepath = os.path.join('outputs', 'moves.json')"
   ]
  },
  {
   "cell_type": "code",
   "execution_count": null,
   "id": "cc0eb545-dcb1-4cc6-8d48-e4ec98d5c221",
   "metadata": {},
   "outputs": [],
   "source": [
    "!ffmpeg -i inputs/29a07de.mp4 -ab 160k -ac 2 -ar 44100 -vn processed/29a07de.wav"
   ]
  },
  {
   "cell_type": "code",
   "execution_count": 15,
   "id": "10b87362-0d90-4448-8fa7-2a51b8f50597",
   "metadata": {},
   "outputs": [
    {
     "data": {
      "text/plain": [
       "array([[ 0.  ,  2.  ],\n",
       "       [ 0.34,  1.  ],\n",
       "       [ 0.72,  2.  ],\n",
       "       [ 1.06,  1.  ],\n",
       "       [ 1.42,  2.  ],\n",
       "       [ 1.8 ,  1.  ],\n",
       "       [ 2.14,  2.  ],\n",
       "       [ 2.48,  1.  ],\n",
       "       [ 2.82,  2.  ],\n",
       "       [ 3.16,  1.  ],\n",
       "       [ 3.5 ,  2.  ],\n",
       "       [ 3.86,  1.  ],\n",
       "       [ 4.18,  2.  ],\n",
       "       [ 4.52,  1.  ],\n",
       "       [ 4.88,  2.  ],\n",
       "       [ 5.2 ,  1.  ],\n",
       "       [ 5.56,  2.  ],\n",
       "       [ 5.88,  1.  ],\n",
       "       [ 6.22,  2.  ],\n",
       "       [ 6.56,  1.  ],\n",
       "       [ 6.92,  2.  ],\n",
       "       [ 7.26,  1.  ],\n",
       "       [ 7.6 ,  2.  ],\n",
       "       [ 7.94,  1.  ],\n",
       "       [ 8.28,  2.  ],\n",
       "       [ 8.62,  1.  ],\n",
       "       [ 8.96,  2.  ],\n",
       "       [ 9.3 ,  1.  ],\n",
       "       [ 9.62,  2.  ],\n",
       "       [ 9.96,  1.  ],\n",
       "       [10.3 ,  2.  ],\n",
       "       [10.66,  1.  ],\n",
       "       [10.98,  2.  ],\n",
       "       [11.32,  1.  ],\n",
       "       [11.66,  2.  ],\n",
       "       [12.  ,  1.  ],\n",
       "       [12.36,  2.  ],\n",
       "       [12.68,  1.  ],\n",
       "       [13.02,  2.  ],\n",
       "       [13.36,  1.  ],\n",
       "       [13.7 ,  2.  ]])"
      ]
     },
     "execution_count": 15,
     "metadata": {},
     "output_type": "execute_result"
    }
   ],
   "source": [
    "from BeatNet.BeatNet import BeatNet\n",
    "import os\n",
    "\n",
    "os.environ['KMP_DUPLICATE_LIB_OK'] = 'TRUE'\n",
    "audio_filepath = os.path.join('processed', f'{move_filename}.wav')\n",
    "estimator = BeatNet(1, mode='offline', inference_model='DBN', plot=[], thread=False)\n",
    "beats = estimator.process(audio_filepath)\n",
    "beats"
   ]
  },
  {
   "cell_type": "code",
   "execution_count": 17,
   "id": "8db6e05a-3600-43a0-9308-7a9dd1aa96f6",
   "metadata": {},
   "outputs": [],
   "source": [
    "offset = 1"
   ]
  },
  {
   "cell_type": "code",
   "execution_count": 98,
   "id": "c3b4fbf1-5367-47cf-8928-3884ba8e2f79",
   "metadata": {},
   "outputs": [
    {
     "name": "stdout",
     "output_type": "stream",
     "text": [
      "{'video_found': True, 'audio_found': True, 'metadata': {'major_brand': 'mp42', 'minor_version': '0', 'compatible_brands': 'mp42isom'}, 'inputs': [{'streams': [{'input_number': 0, 'stream_number': 0, 'stream_type': 'video', 'language': None, 'default': True, 'size': [480, 480], 'bitrate': 708, 'fps': 30.04, 'codec_name': 'h264', 'profile': '(Baseline)', 'metadata': {'Metadata': '', 'vendor_id': '[0][0][0][0]'}}, {'input_number': 0, 'stream_number': 1, 'stream_type': 'audio', 'language': None, 'default': True, 'fps': 44100, 'bitrate': 63, 'metadata': {'Metadata': '', 'vendor_id': '[0][0][0][0]'}}], 'input_number': 0}], 'duration': 13.98, 'bitrate': 775, 'start': 0.0, 'default_video_input_number': 0, 'default_video_stream_number': 0, 'video_codec_name': 'h264', 'video_profile': '(Baseline)', 'video_size': [480, 480], 'video_bitrate': 708, 'video_fps': 30.04, 'default_audio_input_number': 0, 'default_audio_stream_number': 1, 'audio_fps': 44100, 'audio_bitrate': 63, 'video_duration': 13.98, 'video_n_frames': 419}\n",
      "C:\\Users\\user\\anaconda3\\Lib\\site-packages\\imageio_ffmpeg\\binaries\\ffmpeg-win-x86_64-v7.1.exe -i inputs/29a07de.mp4 -loglevel error -f image2pipe -vf scale=480:480 -sws_flags bicubic -pix_fmt rgb24 -vcodec rawvideo -\n",
      "MoviePy - Building video processed/29a07de_counts.mp4.\n",
      "MoviePy - Writing audio in 29a07de_countsTEMP_MPY_wvf_snd.mp3\n"
     ]
    },
    {
     "name": "stderr",
     "output_type": "stream",
     "text": [
      "                                                                   \r"
     ]
    },
    {
     "name": "stdout",
     "output_type": "stream",
     "text": [
      "MoviePy - Done.\n",
      "MoviePy - Writing video processed/29a07de_counts.mp4\n",
      "\n"
     ]
    },
    {
     "name": "stderr",
     "output_type": "stream",
     "text": [
      "                                                                        "
     ]
    },
    {
     "name": "stdout",
     "output_type": "stream",
     "text": [
      "MoviePy - Done !\n",
      "MoviePy - video ready processed/29a07de_counts.mp4\n"
     ]
    },
    {
     "name": "stderr",
     "output_type": "stream",
     "text": [
      "\r"
     ]
    }
   ],
   "source": [
    "from moviepy import VideoFileClip, TextClip, CompositeVideoClip\n",
    "\n",
    "video_file = f\"inputs/{move_filename}.mp4\"\n",
    "output_file = f\"processed/{move_filename}_counts.mp4\"\n",
    "\n",
    "\n",
    "# Load the video\n",
    "video_clip = VideoFileClip(video_file)\n",
    "\n",
    "start_counting = False\n",
    "\n",
    "for index, x in enumerate(beats):\n",
    "    start_time = x[0]\n",
    "    end_time = beats[index + 1][0] if index + 1 < len(beats) else x[0]\n",
    "\n",
    "    start_counting = start_counting or x[1] == 1\n",
    "\n",
    "    if start_counting:\n",
    "        # Create the text clip\n",
    "        text_clip = TextClip(font='arial.ttf', text=f'{(index - offset) % 8 + 1}', font_size=70, color='white', duration=end_time - start_time)\n",
    "        \n",
    "        # Set the duration and position of the text clip\n",
    "        text_clip = text_clip.with_position(('center', 'bottom'))\n",
    "        \n",
    "        # Set the start time of the text clip\n",
    "        text_clip = text_clip.with_start(start_time)\n",
    "        \n",
    "        # Composite the text clip on the video\n",
    "        video_clip = CompositeVideoClip([video_clip, text_clip])\n",
    "\n",
    "# Write the output video file\n",
    "video_clip.write_videofile(output_file, codec='libx264')"
   ]
  },
  {
   "cell_type": "code",
   "execution_count": 25,
   "id": "408f09db-5fcd-4255-b730-68b3231bd519",
   "metadata": {},
   "outputs": [],
   "source": [
    "import json\n",
    "\n",
    "# Open and read the JSON file\n",
    "with open(moves_filepath, 'r') as file:\n",
    "    data = json.load(file)\n",
    "\n",
    "# After verifying that the counts are Okay, I can save the counts\n",
    "data[move_filename] = []\n",
    "for index, x in enumerate(beats):\n",
    "    data[move_filename].append({\n",
    "        'count': (index - offset) % 8 + 1,\n",
    "        'time': x[0],\n",
    "        'keypoints': []\n",
    "    })\n",
    "\n",
    "with open(moves_filepath, 'w') as fp:\n",
    "    json.dump(data, fp)"
   ]
  },
  {
   "cell_type": "code",
   "execution_count": 114,
   "id": "4449e965-2d8a-4e27-aabd-de46fb730a62",
   "metadata": {},
   "outputs": [],
   "source": [
    "import cv2\n",
    "\n",
    "start_counting = False\n",
    "section = 1\n",
    "for index, x in enumerate(beats):\n",
    "    count = (index - offset) % 8 + 1\n",
    "    vidcap = cv2.VideoCapture(video_file)\n",
    "    vidcap.set(cv2.CAP_PROP_POS_MSEC, int(x[0] * 1000))      # just cue to position\n",
    "    success, image = vidcap.read()\n",
    "    if success:\n",
    "        cv2.imwrite(os.path.join('processed', 'images', f\"{move_filename}_section_{section}_count_{count}.jpg\"), image)     # save frame as JPEG file\n",
    "    \n",
    "    # Release resources\n",
    "    vidcap.release()\n",
    "    cv2.destroyAllWindows()\n",
    "\n",
    "    if count == 8:\n",
    "        section += 1"
   ]
  },
  {
   "cell_type": "code",
   "execution_count": 1,
   "id": "82856d44-c1aa-4cb3-9477-9c95dc902930",
   "metadata": {},
   "outputs": [
    {
     "name": "stdout",
     "output_type": "stream",
     "text": [
      "29a07de_section_1_count_8.jpg\n",
      "29a07de_section_2_count_1.jpg\n",
      "29a07de_section_2_count_2.jpg\n",
      "29a07de_section_2_count_3.jpg\n",
      "29a07de_section_2_count_4.jpg\n",
      "29a07de_section_2_count_5.jpg\n",
      "29a07de_section_2_count_6.jpg\n",
      "29a07de_section_2_count_7.jpg\n",
      "29a07de_section_2_count_8.jpg\n",
      "29a07de_section_3_count_1.jpg\n",
      "29a07de_section_3_count_2.jpg\n",
      "29a07de_section_3_count_3.jpg\n",
      "29a07de_section_3_count_4.jpg\n",
      "29a07de_section_3_count_5.jpg\n",
      "29a07de_section_3_count_6.jpg\n",
      "29a07de_section_3_count_7.jpg\n",
      "29a07de_section_3_count_8.jpg\n",
      "29a07de_section_4_count_1.jpg\n",
      "29a07de_section_4_count_2.jpg\n",
      "29a07de_section_4_count_3.jpg\n",
      "29a07de_section_4_count_4.jpg\n",
      "29a07de_section_4_count_5.jpg\n",
      "29a07de_section_4_count_6.jpg\n",
      "29a07de_section_4_count_7.jpg\n",
      "29a07de_section_4_count_8.jpg\n",
      "29a07de_section_5_count_1.jpg\n",
      "29a07de_section_5_count_2.jpg\n",
      "29a07de_section_5_count_3.jpg\n",
      "29a07de_section_5_count_4.jpg\n",
      "29a07de_section_5_count_5.jpg\n",
      "29a07de_section_5_count_6.jpg\n",
      "29a07de_section_5_count_7.jpg\n",
      "29a07de_section_5_count_8.jpg\n",
      "29a07de_section_6_count_1.jpg\n",
      "29a07de_section_6_count_2.jpg\n",
      "29a07de_section_6_count_3.jpg\n",
      "29a07de_section_6_count_4.jpg\n",
      "29a07de_section_6_count_5.jpg\n",
      "29a07de_section_6_count_6.jpg\n",
      "29a07de_section_6_count_7.jpg\n",
      "29a07de_section_6_count_8.jpg\n"
     ]
    }
   ],
   "source": [
    "import os\n",
    "\n",
    "for images in os.listdir(os.path.join('processed', 'images')):\n",
    "    # check if the image ends with png\n",
    "    if (images.endswith(\".jpg\")):\n",
    "        print(images)"
   ]
  },
  {
   "cell_type": "code",
   "execution_count": null,
   "id": "78305609-a0ec-46d0-8da9-61e0cb12a213",
   "metadata": {},
   "outputs": [],
   "source": []
  }
 ],
 "metadata": {
  "kernelspec": {
   "display_name": "Python [conda env:base] *",
   "language": "python",
   "name": "conda-base-py"
  },
  "language_info": {
   "codemirror_mode": {
    "name": "ipython",
    "version": 3
   },
   "file_extension": ".py",
   "mimetype": "text/x-python",
   "name": "python",
   "nbconvert_exporter": "python",
   "pygments_lexer": "ipython3",
   "version": "3.12.7"
  }
 },
 "nbformat": 4,
 "nbformat_minor": 5
}
