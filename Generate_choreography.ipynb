{
 "cells": [
  {
   "cell_type": "code",
   "execution_count": 1,
   "id": "5d8d54f6-ce0b-4561-8413-8c59b8f5b429",
   "metadata": {},
   "outputs": [],
   "source": [
    "import os\n",
    "\n",
    "song_filepath = os.path.join('inputs', 'audios', 'Romeo Santos - R.I.P..mp3')\n",
    "song_metadata_filepath = os.path.join('inputs', 'audio_metadata', 'Romeo Santos - R.I.P..txt')\n",
    "moves_filepath = os.path.join('outputs', 'moves.json')"
   ]
  },
  {
   "cell_type": "code",
   "execution_count": 2,
   "id": "fc948d2b-60a1-4266-b304-4d2d2b6b9823",
   "metadata": {},
   "outputs": [
    {
     "data": {
      "text/plain": [
       "{'5-#4': [{'move_id': '5db13cd', 'index': 13}],\n",
       " '5-*': [{'move_id': '9da1eb8', 'index': 0}],\n",
       " '7-*': [{'move_id': '9da1eb8', 'index': 2}],\n",
       " '5-*2': [{'move_id': '5d80c9a', 'index': 13}],\n",
       " '7-*2': [{'move_id': '5d80c9a', 'index': 15}]}"
      ]
     },
     "execution_count": 2,
     "metadata": {},
     "output_type": "execute_result"
    }
   ],
   "source": [
    "import json\n",
    "\n",
    "# Open and read the JSON file\n",
    "with open(moves_filepath, 'r') as file:\n",
    "    moves_data = json.load(file)\n",
    "\n",
    "musicality_map = {}\n",
    "for move_id, move_data in moves_data.items():\n",
    "    for index, item in enumerate(move_data):\n",
    "        if item['musicality'] != '-':\n",
    "            key = f\"{item['count']}-{item['musicality']}\"\n",
    "            if key not in musicality_map:\n",
    "                musicality_map[key] = []\n",
    "            musicality_map[key].append({'move_id': move_id, 'index': index})\n",
    "musicality_map"
   ]
  },
  {
   "cell_type": "code",
   "execution_count": 10,
   "id": "2af3aa65-c3dc-4b0d-aaf0-de2dd6806669",
   "metadata": {},
   "outputs": [
    {
     "data": {
      "text/plain": [
       "32"
      ]
     },
     "execution_count": 10,
     "metadata": {},
     "output_type": "execute_result"
    }
   ],
   "source": [
    "with open(song_metadata_filepath, \"r\", encoding=\"utf-8\") as f:\n",
    "    musical_notation = f.read()\n",
    "    # split() without arguments splits on any whitespace (spaces, tabs, newlines)\n",
    "    musical_tokens = musical_notation.split()\n",
    "num_tokens = len(musical_tokens)\n",
    "num_tokens"
   ]
  },
  {
   "cell_type": "code",
   "execution_count": 12,
   "id": "9520a98c-2a7e-4253-8224-c0c845fe8217",
   "metadata": {},
   "outputs": [
    {
     "name": "stderr",
     "output_type": "stream",
     "text": [
      "C:\\Users\\user\\anaconda3\\Lib\\site-packages\\paramiko\\pkey.py:82: CryptographyDeprecationWarning: TripleDES has been moved to cryptography.hazmat.decrepit.ciphers.algorithms.TripleDES and will be removed from this module in 48.0.0.\n",
      "  \"cipher\": algorithms.TripleDES,\n",
      "C:\\Users\\user\\anaconda3\\Lib\\site-packages\\paramiko\\transport.py:219: CryptographyDeprecationWarning: Blowfish has been moved to cryptography.hazmat.decrepit.ciphers.algorithms.Blowfish and will be removed from this module in 45.0.0.\n",
      "  \"class\": algorithms.Blowfish,\n",
      "C:\\Users\\user\\anaconda3\\Lib\\site-packages\\paramiko\\transport.py:243: CryptographyDeprecationWarning: TripleDES has been moved to cryptography.hazmat.decrepit.ciphers.algorithms.TripleDES and will be removed from this module in 48.0.0.\n",
      "  \"class\": algorithms.TripleDES,\n"
     ]
    },
    {
     "data": {
      "text/plain": [
       "array([[ 0.36,  2.  ],\n",
       "       [ 0.82,  3.  ],\n",
       "       [ 1.28,  4.  ],\n",
       "       [ 1.74,  1.  ],\n",
       "       [ 2.2 ,  2.  ],\n",
       "       [ 2.68,  3.  ],\n",
       "       [ 3.12,  4.  ],\n",
       "       [ 3.6 ,  1.  ],\n",
       "       [ 4.06,  2.  ],\n",
       "       [ 4.52,  3.  ],\n",
       "       [ 4.98,  4.  ],\n",
       "       [ 5.44,  1.  ],\n",
       "       [ 5.9 ,  2.  ],\n",
       "       [ 6.36,  3.  ],\n",
       "       [ 6.8 ,  4.  ],\n",
       "       [ 7.3 ,  1.  ],\n",
       "       [ 7.76,  2.  ],\n",
       "       [ 8.2 ,  3.  ],\n",
       "       [ 8.66,  4.  ],\n",
       "       [ 9.14,  1.  ],\n",
       "       [ 9.6 ,  2.  ],\n",
       "       [10.06,  3.  ],\n",
       "       [10.52,  4.  ],\n",
       "       [10.98,  1.  ],\n",
       "       [11.44,  2.  ],\n",
       "       [11.9 ,  3.  ],\n",
       "       [12.36,  4.  ],\n",
       "       [12.82,  1.  ],\n",
       "       [13.28,  2.  ],\n",
       "       [13.74,  3.  ],\n",
       "       [14.2 ,  4.  ],\n",
       "       [14.66,  1.  ],\n",
       "       [15.14,  2.  ],\n",
       "       [15.6 ,  3.  ],\n",
       "       [16.06,  4.  ],\n",
       "       [16.5 ,  1.  ]])"
      ]
     },
     "execution_count": 12,
     "metadata": {},
     "output_type": "execute_result"
    }
   ],
   "source": [
    "from BeatNet.BeatNet import BeatNet\n",
    "import os\n",
    "\n",
    "os.environ['KMP_DUPLICATE_LIB_OK'] = 'TRUE'\n",
    "estimator = BeatNet(1, mode='offline', inference_model='DBN', plot=[], thread=False)\n",
    "beats = estimator.process(song_filepath)\n",
    "beats"
   ]
  },
  {
   "cell_type": "code",
   "execution_count": 13,
   "id": "d30cf1dc-7531-4115-ae3d-cb2c15dcc83e",
   "metadata": {},
   "outputs": [
    {
     "data": {
      "text/plain": [
       "array([[ 1.74,  1.  ],\n",
       "       [ 2.2 ,  2.  ],\n",
       "       [ 2.68,  3.  ],\n",
       "       [ 3.12,  4.  ],\n",
       "       [ 3.6 ,  1.  ],\n",
       "       [ 4.06,  2.  ],\n",
       "       [ 4.52,  3.  ],\n",
       "       [ 4.98,  4.  ],\n",
       "       [ 5.44,  1.  ],\n",
       "       [ 5.9 ,  2.  ],\n",
       "       [ 6.36,  3.  ],\n",
       "       [ 6.8 ,  4.  ],\n",
       "       [ 7.3 ,  1.  ],\n",
       "       [ 7.76,  2.  ],\n",
       "       [ 8.2 ,  3.  ],\n",
       "       [ 8.66,  4.  ],\n",
       "       [ 9.14,  1.  ],\n",
       "       [ 9.6 ,  2.  ],\n",
       "       [10.06,  3.  ],\n",
       "       [10.52,  4.  ],\n",
       "       [10.98,  1.  ],\n",
       "       [11.44,  2.  ],\n",
       "       [11.9 ,  3.  ],\n",
       "       [12.36,  4.  ],\n",
       "       [12.82,  1.  ],\n",
       "       [13.28,  2.  ],\n",
       "       [13.74,  3.  ],\n",
       "       [14.2 ,  4.  ],\n",
       "       [14.66,  1.  ],\n",
       "       [15.14,  2.  ],\n",
       "       [15.6 ,  3.  ],\n",
       "       [16.06,  4.  ]])"
      ]
     },
     "execution_count": 13,
     "metadata": {},
     "output_type": "execute_result"
    }
   ],
   "source": [
    "def get_important_beats(beats, num_tokens):\n",
    "    # Find the first position where index == 1\n",
    "    start = None\n",
    "    for i, (time, index) in enumerate(beats):\n",
    "        if index == 1:\n",
    "            start = i\n",
    "            break\n",
    "    \n",
    "    if start is None:\n",
    "        raise ValueError(\"No row with index == 1 found\")\n",
    "    \n",
    "    # Slice the subarray of length num_tokens (if enough rows exist)\n",
    "    end = start + num_tokens\n",
    "    if end > len(beats):\n",
    "        raise ValueError(\"Not enough rows to get num_tokens elements starting at index==1\")\n",
    "    \n",
    "    return beats[start:end]\n",
    "\n",
    "important_beats = get_important_beats(beats, num_tokens)\n",
    "important_beats"
   ]
  },
  {
   "cell_type": "code",
   "execution_count": 14,
   "id": "4b607b24-8ee5-4036-bfe2-b1bf864a9847",
   "metadata": {},
   "outputs": [
    {
     "data": {
      "text/plain": [
       "[['1.74', '1.0', '-', '1', '1--'],\n",
       " ['2.2', '2.0', '-', '2', '2--'],\n",
       " ['2.68', '3.0', '-', '3', '3--'],\n",
       " ['3.12', '4.0', '-', '4', '4--'],\n",
       " ['3.6', '1.0', '-', '5', '5--'],\n",
       " ['4.06', '2.0', '-', '6', '6--'],\n",
       " ['4.52', '3.0', '-', '7', '7--'],\n",
       " ['4.98', '4.0', '-', '8', '8--'],\n",
       " ['5.44', '1.0', '-', '1', '1--'],\n",
       " ['5.9', '2.0', '-', '2', '2--'],\n",
       " ['6.36', '3.0', '-', '3', '3--'],\n",
       " ['6.8', '4.0', '-', '4', '4--'],\n",
       " ['7.3', '1.0', '*', '5', '5-*'],\n",
       " ['7.76', '2.0', '-', '6', '6--'],\n",
       " ['8.2', '3.0', '-', '7', '7--'],\n",
       " ['8.66', '4.0', '-', '8', '8--'],\n",
       " ['9.14', '1.0', '-', '1', '1--'],\n",
       " ['9.6', '2.0', '-', '2', '2--'],\n",
       " ['10.06', '3.0', '-', '3', '3--'],\n",
       " ['10.52', '4.0', '-', '4', '4--'],\n",
       " ['10.98', '1.0', '-', '5', '5--'],\n",
       " ['11.44', '2.0', '-', '6', '6--'],\n",
       " ['11.9', '3.0', '-', '7', '7--'],\n",
       " ['12.36', '4.0', '-', '8', '8--'],\n",
       " ['12.82', '1.0', '-', '1', '1--'],\n",
       " ['13.28', '2.0', '-', '2', '2--'],\n",
       " ['13.74', '3.0', '-', '3', '3--'],\n",
       " ['14.2', '4.0', '-', '4', '4--'],\n",
       " ['14.66', '1.0', '#4', '5', '5-#4'],\n",
       " ['15.14', '2.0', '-', '6', '6--'],\n",
       " ['15.6', '3.0', '-', '7', '7--'],\n",
       " ['16.06', '4.0', '-', '8', '8--']]"
      ]
     },
     "execution_count": 14,
     "metadata": {},
     "output_type": "execute_result"
    }
   ],
   "source": [
    "import numpy as np\n",
    "beats_array = [(x % 8) + 1 for x in range(num_tokens)]\n",
    "selected_beats = np.column_stack((important_beats, musical_tokens, beats_array, [f'{beats_array[index]}-{musical_tokens[index]}' for  index in range(num_tokens)])).tolist()\n",
    "selected_beats"
   ]
  },
  {
   "cell_type": "code",
   "execution_count": 18,
   "id": "f47972d7-0586-4a57-bd3f-578563e9005f",
   "metadata": {},
   "outputs": [
    {
     "data": {
      "text/plain": [
       "[{'move_id': '9da1eb8', 'song_index': 12, 'move_index': 0},\n",
       " {'move_id': '5db13cd', 'song_index': 15, 'move_index': 0}]"
      ]
     },
     "execution_count": 18,
     "metadata": {},
     "output_type": "execute_result"
    }
   ],
   "source": [
    "import random\n",
    "\n",
    "last_move_index = 0\n",
    "choreography = []\n",
    "for index, (song_time, _, _, beat_index, musicality_token) in enumerate(selected_beats):\n",
    "    if musicality_token in musicality_map:\n",
    "        random_move = random.choice(musicality_map[musicality_token])\n",
    "        move_index = random_move['index']\n",
    "\n",
    "        '''\n",
    "        print(index)\n",
    "        print(last_move_index)\n",
    "        print(random_move['index'])\n",
    "        print('----------------')\n",
    "        '''\n",
    "        # TODO: start the video in a smooth way finding similar poses\n",
    "        index_start_move = min(index - last_move_index, move_index)\n",
    "        choreography.append({\n",
    "            'move_id': random_move['move_id'],\n",
    "            'song_index': index - index_start_move,\n",
    "            'move_index': move_index - index_start_move\n",
    "        })\n",
    "        last_move_index = index\n",
    "\n",
    "choreography"
   ]
  },
  {
   "cell_type": "code",
   "execution_count": 20,
   "id": "61676cfa-b69b-4280-9692-4adff1c0fae9",
   "metadata": {},
   "outputs": [
    {
     "ename": "IndentationError",
     "evalue": "expected an indented block after 'if' statement on line 43 (3364008915.py, line 46)",
     "output_type": "error",
     "traceback": [
      "\u001b[1;36m  Cell \u001b[1;32mIn[20], line 46\u001b[1;36m\u001b[0m\n\u001b[1;33m    last_song_index = end_song_index\u001b[0m\n\u001b[1;37m    ^\u001b[0m\n\u001b[1;31mIndentationError\u001b[0m\u001b[1;31m:\u001b[0m expected an indented block after 'if' statement on line 43\n"
     ]
    }
   ],
   "source": [
    "'''\n",
    "Given the following code, I want to create a video with a song as a background.\n",
    "The video should have a black screen when no moves are in the choreography,\n",
    "the choreography looks like\n",
    "[{'move_id': '9da1eb8', 'song_index': 12, 'move_index': 0},\n",
    " {'move_id': '5db13cd', 'song_index': 15, 'move_index': 0}]\n",
    "\n",
    "Where move_id is a key in a dictionary moves_data. moves_data['5db13cd'] looks like this\n",
    "[\n",
    "{'time': 0.18},\n",
    "{'time': 0.66},\n",
    "{'time': 1.14},\n",
    "{'time': 1.62},\n",
    "{'time': 2.08},\n",
    "{'time': 2.56},\n",
    "]\n",
    "Each row is a beat and their respective time. move_id.mp4 is also a video\n",
    "\n",
    "I want each move_id.mp4 speed adjusted to the beats of the music (selected_beats). The beats of the music looks like this\n",
    "\n",
    "[['1.74'],\n",
    " ['2.2'],\n",
    " ['2.68'],\n",
    " ['3.12'],\n",
    " ['3.6'],\n",
    " ['4.06'],\n",
    " ['4.52'],\n",
    " ['4.98'],\n",
    " ['5.44'],\n",
    " ['5.9'],\n",
    " ['6.36'],\n",
    " ['6.8'],\n",
    " ['7.3'],\n",
    " ['7.76']\n",
    "]\n",
    "\n",
    "where each row is a beat. The column is time.\n",
    "\n",
    "Also, I want to fill the spaces not taken into account in the choreography with a black screen, but still listening to the song\n",
    "\n",
    "'''\n",
    "\n",
    "'''\n",
    "from moviepy.editor import *\n",
    "\n",
    "def color_clip(size, duration, fps=25, color=(0,0,0), output='color.mp4'):\n",
    "    ColorClip(size, color, duration=duration).write_videofile(output, fps=fps)\n",
    "\n",
    "if __name__ == '__main__':\n",
    "    size = (200, 100)\n",
    "    duration = 5\n",
    "    color_clip(size, duration)\n",
    "'''\n",
    "\n",
    "from moviepy import VideoFileClip, vfx, ColorClip\n",
    "\n",
    "last_song_index = 0\n",
    "for index, move_metadata in enumerate(choreography):\n",
    "    move_id = move_metadata['move_id']\n",
    "    start_song_index = move_metadata['song_index']\n",
    "    move_index = move_metadata['move_index']\n",
    "\n",
    "    next_song_index = num_tokens + 2\n",
    "    if index < len(choreography) - 1:\n",
    "        next_song_index = choreography[index + 1]['song_index']\n",
    "    end_move_index = len(moves_data[move_id])\n",
    "    end_song_index = start_song_index + min(next_song_index - start_song_index, end_move_index - move_index) - 1\n",
    "\n",
    "\n",
    "    print(last_song_index)\n",
    "    print(start_song_index)\n",
    "    print(end_song_index)"
   ]
  },
  {
   "cell_type": "code",
   "execution_count": 50,
   "id": "4be19c82-55a0-4d38-a966-3b44de4e6c95",
   "metadata": {},
   "outputs": [
    {
     "name": "stdout",
     "output_type": "stream",
     "text": [
      "12\n",
      "15\n",
      "{'video_found': True, 'audio_found': True, 'metadata': {'major_brand': 'isom', 'minor_version': '512', 'compatible_brands': 'isomiso2avc1mp41', 'encoder': 'Lavf61.7.100'}, 'inputs': [{'streams': [{'input_number': 0, 'stream_number': 0, 'stream_type': 'audio', 'language': None, 'default': True, 'fps': 44100, 'bitrate': 128, 'metadata': {'Metadata': '', 'handler_name': 'SoundHandler', 'vendor_id': '[0][0][0][0]'}}, {'input_number': 0, 'stream_number': 1, 'stream_type': 'video', 'language': None, 'default': True, 'size': [720, 1280], 'bitrate': 5564, 'fps': 30.12, 'codec_name': 'h264', 'profile': '(High)', 'metadata': {'Metadata': '', 'handler_name': 'VideoHandler', 'vendor_id': '[0][0][0][0]', 'encoder': 'Lavc61.19.100 libx264'}}], 'input_number': 0}], 'duration': 8.29, 'bitrate': 5688, 'start': 0.0, 'default_audio_input_number': 0, 'default_audio_stream_number': 0, 'audio_fps': 44100, 'audio_bitrate': 128, 'default_video_input_number': 0, 'default_video_stream_number': 1, 'video_codec_name': 'h264', 'video_profile': '(High)', 'video_size': [720, 1280], 'video_bitrate': 5564, 'video_fps': 30.12, 'video_duration': 8.29, 'video_n_frames': 249}\n",
      "C:\\Users\\user\\anaconda3\\Lib\\site-packages\\imageio_ffmpeg\\binaries\\ffmpeg-win-x86_64-v7.1.exe -i inputs\\videos\\9da1eb8.mp4 -loglevel error -f image2pipe -vf scale=720:1280 -sws_flags bicubic -pix_fmt rgb24 -vcodec rawvideo -\n",
      "15\n",
      "32\n",
      "{'video_found': True, 'audio_found': True, 'metadata': {'major_brand': 'isom', 'minor_version': '512', 'compatible_brands': 'isomiso2avc1mp41', 'encoder': 'Lavf61.7.100'}, 'inputs': [{'streams': [{'input_number': 0, 'stream_number': 0, 'stream_type': 'audio', 'language': None, 'default': True, 'fps': 44100, 'bitrate': 127, 'metadata': {'Metadata': '', 'handler_name': 'SoundHandler', 'vendor_id': '[0][0][0][0]'}}, {'input_number': 0, 'stream_number': 1, 'stream_type': 'video', 'language': None, 'default': True, 'size': [1280, 720], 'bitrate': 4975, 'fps': 50.12, 'codec_name': 'h264', 'profile': '(High)', 'metadata': {'Metadata': '', 'handler_name': 'VideoHandler', 'vendor_id': '[0][0][0][0]', 'encoder': 'Lavc61.19.100 libx264'}}], 'input_number': 0}], 'duration': 8.31, 'bitrate': 5108, 'start': 0.0, 'default_audio_input_number': 0, 'default_audio_stream_number': 0, 'audio_fps': 44100, 'audio_bitrate': 127, 'default_video_input_number': 0, 'default_video_stream_number': 1, 'video_codec_name': 'h264', 'video_profile': '(High)', 'video_size': [1280, 720], 'video_bitrate': 4975, 'video_fps': 50.12, 'video_duration': 8.31, 'video_n_frames': 416}\n",
      "C:\\Users\\user\\anaconda3\\Lib\\site-packages\\imageio_ffmpeg\\binaries\\ffmpeg-win-x86_64-v7.1.exe -i inputs\\videos\\5db13cd.mp4 -loglevel error -f image2pipe -vf scale=1280:720 -sws_flags bicubic -pix_fmt rgb24 -vcodec rawvideo -\n",
      "MoviePy - Building video final_output.mp4.\n",
      "MoviePy - Writing audio in final_outputTEMP_MPY_wvf_snd.mp4\n"
     ]
    },
    {
     "name": "stderr",
     "output_type": "stream",
     "text": [
      "                                                                   \r"
     ]
    },
    {
     "name": "stdout",
     "output_type": "stream",
     "text": [
      "MoviePy - Done.\n",
      "MoviePy - Writing video final_output.mp4\n",
      "\n"
     ]
    },
    {
     "name": "stderr",
     "output_type": "stream",
     "text": [
      "                                                                        \r"
     ]
    },
    {
     "name": "stdout",
     "output_type": "stream",
     "text": [
      "MoviePy - Done !\n",
      "MoviePy - video ready final_output.mp4\n"
     ]
    }
   ],
   "source": [
    "from moviepy import VideoFileClip, AudioFileClip, ColorClip, concatenate_videoclips, vfx\n",
    "import numpy as np\n",
    "\n",
    "music_beats = [float(b[0]) for b in selected_beats]\n",
    "\n",
    "# Song audio\n",
    "song = AudioFileClip(song_filepath)\n",
    "song_duration = song.duration\n",
    "\n",
    "\n",
    "# --- Helper: fit move video to beats ---\n",
    "def stretch_move(move_id, move_index, song_start_idx, song_end_idx):\n",
    "    # Number of beats in song slice\n",
    "    n_song_beats = song_end_idx - song_start_idx\n",
    "\n",
    "    # Take only that many beats from the move, starting at move_index\n",
    "    move_beats = [d['time'] for d in moves_data[move_id][move_index:move_index+n_song_beats]]\n",
    "\n",
    "    if len(move_beats) < 2:\n",
    "        return None  # not enough beats in the move\n",
    "\n",
    "    move_duration = move_beats[-1] - move_beats[0]\n",
    "\n",
    "    # Target beats slice in the song\n",
    "    target_beats = music_beats[song_start_idx:song_end_idx + 1]\n",
    "    target_duration = target_beats[-1] - target_beats[0]\n",
    "\n",
    "    # Load the clip\n",
    "    clip = VideoFileClip(os.path.join('inputs', 'videos', f\"{move_id}.mp4\"))\n",
    "\n",
    "    # Trim to the move duration (relative to first beat)\n",
    "    clip = clip.subclipped(move_beats[0], move_beats[0] + move_duration)\n",
    "\n",
    "    # Stretch to fit target beats duration\n",
    "    clip = clip.with_effects([vfx.MultiplySpeed(factor=move_duration/target_duration)])\n",
    "\n",
    "    # Force exact duration\n",
    "    clip = clip.with_duration(target_duration)\n",
    "\n",
    "    return clip\n",
    "\n",
    "\n",
    "# --- Build timeline ---\n",
    "clips = []\n",
    "current_time = 0\n",
    "\n",
    "for i, move in enumerate(choreography):\n",
    "    song_idx = move['song_index']\n",
    "    next_song_idx = choreography[i+1]['song_index'] if i+1 < len(choreography) else len(music_beats)\n",
    "    print(song_idx)\n",
    "    print(next_song_idx)\n",
    "\n",
    "    # black screen before this move (if gap)\n",
    "    beat_time = music_beats[song_idx]\n",
    "    if beat_time > current_time:\n",
    "        clips.append(ColorClip(size=(640,480), color=(0,0,0), duration=beat_time-current_time))\n",
    "\n",
    "    # add stretched move\n",
    "    move_clip = stretch_move(\n",
    "        move['move_id'],\n",
    "        move['move_index'],\n",
    "        song_idx,\n",
    "        next_song_idx\n",
    "    )\n",
    "    clips.append(move_clip)\n",
    "\n",
    "    current_time = beat_time + move_clip.duration\n",
    "\n",
    "# black screen until song ends\n",
    "if current_time < song_duration:\n",
    "    clips.append(ColorClip(size=(640,480), color=(0,0,0), duration=song_duration-current_time))\n",
    "\n",
    "# Concatenate all\n",
    "final_video = concatenate_videoclips(clips, method=\"compose\")\n",
    "\n",
    "# Set audio\n",
    "final_video.audio = song\n",
    "\n",
    "# Export\n",
    "final_video.write_videofile(\"final_output.mp4\", codec=\"libx264\", audio_codec=\"aac\")"
   ]
  }
 ],
 "metadata": {
  "kernelspec": {
   "display_name": "Python [conda env:base] *",
   "language": "python",
   "name": "conda-base-py"
  },
  "language_info": {
   "codemirror_mode": {
    "name": "ipython",
    "version": 3
   },
   "file_extension": ".py",
   "mimetype": "text/x-python",
   "name": "python",
   "nbconvert_exporter": "python",
   "pygments_lexer": "ipython3",
   "version": "3.12.7"
  }
 },
 "nbformat": 4,
 "nbformat_minor": 5
}
