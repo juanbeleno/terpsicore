{
 "cells": [
  {
   "cell_type": "code",
   "execution_count": 13,
   "id": "5d8d54f6-ce0b-4561-8413-8c59b8f5b429",
   "metadata": {},
   "outputs": [],
   "source": [
    "import os\n",
    "\n",
    "song_filepath = os.path.join('inputs', 'audios', 'Romeo Santos - R.I.P..mp3')\n",
    "song_metadata_filepath = os.path.join('inputs', 'audio_metadata', 'Romeo Santos - R.I.P..txt')\n",
    "moves_filepath = os.path.join('outputs', 'moves.json')"
   ]
  },
  {
   "cell_type": "code",
   "execution_count": null,
   "id": "fc948d2b-60a1-4266-b304-4d2d2b6b9823",
   "metadata": {},
   "outputs": [],
   "source": [
    "import json\n",
    "\n",
    "# Open and read the JSON file\n",
    "with open(moves_filepath, 'r') as file:\n",
    "    data = json.load(file)\n",
    "\n",
    "musicality_map = {}\n",
    "for move_id, move_data in data.items():\n",
    "    for index, item in enumerate(move_data):\n",
    "        if item['musicality'] != '-':\n",
    "            key = f\"{item['count']}-{item['musicality']}\"\n",
    "            if key not in musicality_map:\n",
    "                musicality_map[key] = []\n",
    "            musicality_map[key].append({'move_id': move_id, 'index': index})"
   ]
  },
  {
   "cell_type": "code",
   "execution_count": 11,
   "id": "9520a98c-2a7e-4253-8224-c0c845fe8217",
   "metadata": {},
   "outputs": [
    {
     "data": {
      "text/plain": [
       "array([[ 0.36,  2.  ],\n",
       "       [ 0.82,  3.  ],\n",
       "       [ 1.28,  4.  ],\n",
       "       [ 1.74,  1.  ],\n",
       "       [ 2.2 ,  2.  ],\n",
       "       [ 2.68,  3.  ],\n",
       "       [ 3.12,  4.  ],\n",
       "       [ 3.6 ,  1.  ],\n",
       "       [ 4.06,  2.  ],\n",
       "       [ 4.52,  3.  ],\n",
       "       [ 4.98,  4.  ],\n",
       "       [ 5.44,  1.  ],\n",
       "       [ 5.9 ,  2.  ],\n",
       "       [ 6.36,  3.  ],\n",
       "       [ 6.8 ,  4.  ],\n",
       "       [ 7.3 ,  1.  ],\n",
       "       [ 7.76,  2.  ],\n",
       "       [ 8.2 ,  3.  ],\n",
       "       [ 8.66,  4.  ],\n",
       "       [ 9.14,  1.  ],\n",
       "       [ 9.6 ,  2.  ],\n",
       "       [10.06,  3.  ],\n",
       "       [10.52,  4.  ],\n",
       "       [10.98,  1.  ],\n",
       "       [11.44,  2.  ],\n",
       "       [11.9 ,  3.  ],\n",
       "       [12.36,  4.  ],\n",
       "       [12.82,  1.  ],\n",
       "       [13.28,  2.  ],\n",
       "       [13.74,  3.  ],\n",
       "       [14.2 ,  4.  ],\n",
       "       [14.66,  1.  ],\n",
       "       [15.14,  2.  ],\n",
       "       [15.6 ,  3.  ],\n",
       "       [16.06,  4.  ],\n",
       "       [16.5 ,  1.  ]])"
      ]
     },
     "execution_count": 11,
     "metadata": {},
     "output_type": "execute_result"
    }
   ],
   "source": [
    "from BeatNet.BeatNet import BeatNet\n",
    "import os\n",
    "\n",
    "os.environ['KMP_DUPLICATE_LIB_OK'] = 'TRUE'\n",
    "estimator = BeatNet(1, mode='offline', inference_model='DBN', plot=[], thread=False)\n",
    "beats = estimator.process(song_filepath)\n",
    "beats"
   ]
  },
  {
   "cell_type": "code",
   "execution_count": null,
   "id": "d30cf1dc-7531-4115-ae3d-cb2c15dcc83e",
   "metadata": {},
   "outputs": [],
   "source": []
  }
 ],
 "metadata": {
  "kernelspec": {
   "display_name": "Python [conda env:base] *",
   "language": "python",
   "name": "conda-base-py"
  },
  "language_info": {
   "codemirror_mode": {
    "name": "ipython",
    "version": 3
   },
   "file_extension": ".py",
   "mimetype": "text/x-python",
   "name": "python",
   "nbconvert_exporter": "python",
   "pygments_lexer": "ipython3",
   "version": "3.12.7"
  }
 },
 "nbformat": 4,
 "nbformat_minor": 5
}
