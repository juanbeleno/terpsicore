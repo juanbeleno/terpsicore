{
 "cells": [
  {
   "cell_type": "code",
   "execution_count": 3,
   "id": "5d8d54f6-ce0b-4561-8413-8c59b8f5b429",
   "metadata": {},
   "outputs": [],
   "source": [
    "import os\n",
    "\n",
    "song_filepath = os.path.join('inputs', 'audios', 'Romeo Santos - R.I.P..mp3')\n",
    "song_metadata_filepath = os.path.join('inputs', 'audio_metadata', 'Romeo Santos - R.I.P..txt')\n",
    "moves_filepath = os.path.join('outputs', 'moves.json')"
   ]
  },
  {
   "cell_type": "code",
   "execution_count": 15,
   "id": "fc948d2b-60a1-4266-b304-4d2d2b6b9823",
   "metadata": {},
   "outputs": [
    {
     "data": {
      "text/plain": [
       "{'5-#4': [{'move_id': '5db13cd', 'index': 13}],\n",
       " '5-*': [{'move_id': '9da1eb8', 'index': 0}],\n",
       " '7-*': [{'move_id': '9da1eb8', 'index': 2}],\n",
       " '5-*2': [{'move_id': '5d80c9a', 'index': 13}],\n",
       " '7-*2': [{'move_id': '5d80c9a', 'index': 15}]}"
      ]
     },
     "execution_count": 15,
     "metadata": {},
     "output_type": "execute_result"
    }
   ],
   "source": [
    "import json\n",
    "\n",
    "# Open and read the JSON file\n",
    "with open(moves_filepath, 'r') as file:\n",
    "    data = json.load(file)\n",
    "\n",
    "musicality_map = {}\n",
    "for move_id, move_data in data.items():\n",
    "    for index, item in enumerate(move_data):\n",
    "        if item['musicality'] != '-':\n",
    "            key = f\"{item['count']}-{item['musicality']}\"\n",
    "            if key not in musicality_map:\n",
    "                musicality_map[key] = []\n",
    "            musicality_map[key].append({'move_id': move_id, 'index': index})\n",
    "musicality_map"
   ]
  },
  {
   "cell_type": "code",
   "execution_count": 15,
   "id": "2af3aa65-c3dc-4b0d-aaf0-de2dd6806669",
   "metadata": {},
   "outputs": [
    {
     "data": {
      "text/plain": [
       "32"
      ]
     },
     "execution_count": 15,
     "metadata": {},
     "output_type": "execute_result"
    }
   ],
   "source": [
    "with open(song_metadata_filepath, \"r\", encoding=\"utf-8\") as f:\n",
    "    musical_notation = f.read()\n",
    "    # split() without arguments splits on any whitespace (spaces, tabs, newlines)\n",
    "    musical_tokens = text.split()\n",
    "num_tokens = len(musical_tokens)\n",
    "num_tokens"
   ]
  },
  {
   "cell_type": "code",
   "execution_count": 11,
   "id": "9520a98c-2a7e-4253-8224-c0c845fe8217",
   "metadata": {},
   "outputs": [
    {
     "name": "stderr",
     "output_type": "stream",
     "text": [
      "C:\\Users\\user\\anaconda3\\Lib\\site-packages\\paramiko\\pkey.py:82: CryptographyDeprecationWarning: TripleDES has been moved to cryptography.hazmat.decrepit.ciphers.algorithms.TripleDES and will be removed from this module in 48.0.0.\n",
      "  \"cipher\": algorithms.TripleDES,\n",
      "C:\\Users\\user\\anaconda3\\Lib\\site-packages\\paramiko\\transport.py:219: CryptographyDeprecationWarning: Blowfish has been moved to cryptography.hazmat.decrepit.ciphers.algorithms.Blowfish and will be removed from this module in 45.0.0.\n",
      "  \"class\": algorithms.Blowfish,\n",
      "C:\\Users\\user\\anaconda3\\Lib\\site-packages\\paramiko\\transport.py:243: CryptographyDeprecationWarning: TripleDES has been moved to cryptography.hazmat.decrepit.ciphers.algorithms.TripleDES and will be removed from this module in 48.0.0.\n",
      "  \"class\": algorithms.TripleDES,\n"
     ]
    },
    {
     "data": {
      "text/plain": [
       "array([[ 0.36,  2.  ],\n",
       "       [ 0.82,  3.  ],\n",
       "       [ 1.28,  4.  ],\n",
       "       [ 1.74,  1.  ],\n",
       "       [ 2.2 ,  2.  ],\n",
       "       [ 2.68,  3.  ],\n",
       "       [ 3.12,  4.  ],\n",
       "       [ 3.6 ,  1.  ],\n",
       "       [ 4.06,  2.  ],\n",
       "       [ 4.52,  3.  ],\n",
       "       [ 4.98,  4.  ],\n",
       "       [ 5.44,  1.  ],\n",
       "       [ 5.9 ,  2.  ],\n",
       "       [ 6.36,  3.  ],\n",
       "       [ 6.8 ,  4.  ],\n",
       "       [ 7.3 ,  1.  ],\n",
       "       [ 7.76,  2.  ],\n",
       "       [ 8.2 ,  3.  ],\n",
       "       [ 8.66,  4.  ],\n",
       "       [ 9.14,  1.  ],\n",
       "       [ 9.6 ,  2.  ],\n",
       "       [10.06,  3.  ],\n",
       "       [10.52,  4.  ],\n",
       "       [10.98,  1.  ],\n",
       "       [11.44,  2.  ],\n",
       "       [11.9 ,  3.  ],\n",
       "       [12.36,  4.  ],\n",
       "       [12.82,  1.  ],\n",
       "       [13.28,  2.  ],\n",
       "       [13.74,  3.  ],\n",
       "       [14.2 ,  4.  ],\n",
       "       [14.66,  1.  ],\n",
       "       [15.14,  2.  ],\n",
       "       [15.6 ,  3.  ],\n",
       "       [16.06,  4.  ],\n",
       "       [16.5 ,  1.  ]])"
      ]
     },
     "execution_count": 11,
     "metadata": {},
     "output_type": "execute_result"
    }
   ],
   "source": [
    "from BeatNet.BeatNet import BeatNet\n",
    "import os\n",
    "\n",
    "os.environ['KMP_DUPLICATE_LIB_OK'] = 'TRUE'\n",
    "estimator = BeatNet(1, mode='offline', inference_model='DBN', plot=[], thread=False)\n",
    "beats = estimator.process(song_filepath)\n",
    "beats"
   ]
  },
  {
   "cell_type": "code",
   "execution_count": 23,
   "id": "d30cf1dc-7531-4115-ae3d-cb2c15dcc83e",
   "metadata": {},
   "outputs": [
    {
     "data": {
      "text/plain": [
       "array([[ 1.74,  1.  ],\n",
       "       [ 2.2 ,  2.  ],\n",
       "       [ 2.68,  3.  ],\n",
       "       [ 3.12,  4.  ],\n",
       "       [ 3.6 ,  1.  ],\n",
       "       [ 4.06,  2.  ],\n",
       "       [ 4.52,  3.  ],\n",
       "       [ 4.98,  4.  ],\n",
       "       [ 5.44,  1.  ],\n",
       "       [ 5.9 ,  2.  ],\n",
       "       [ 6.36,  3.  ],\n",
       "       [ 6.8 ,  4.  ],\n",
       "       [ 7.3 ,  1.  ],\n",
       "       [ 7.76,  2.  ],\n",
       "       [ 8.2 ,  3.  ],\n",
       "       [ 8.66,  4.  ],\n",
       "       [ 9.14,  1.  ],\n",
       "       [ 9.6 ,  2.  ],\n",
       "       [10.06,  3.  ],\n",
       "       [10.52,  4.  ],\n",
       "       [10.98,  1.  ],\n",
       "       [11.44,  2.  ],\n",
       "       [11.9 ,  3.  ],\n",
       "       [12.36,  4.  ],\n",
       "       [12.82,  1.  ],\n",
       "       [13.28,  2.  ],\n",
       "       [13.74,  3.  ],\n",
       "       [14.2 ,  4.  ],\n",
       "       [14.66,  1.  ],\n",
       "       [15.14,  2.  ],\n",
       "       [15.6 ,  3.  ],\n",
       "       [16.06,  4.  ]])"
      ]
     },
     "execution_count": 23,
     "metadata": {},
     "output_type": "execute_result"
    }
   ],
   "source": [
    "def get_important_beats(beats, num_tokens):\n",
    "    # Find the first position where index == 1\n",
    "    start = None\n",
    "    for i, (time, index) in enumerate(beats):\n",
    "        if index == 1:\n",
    "            start = i\n",
    "            break\n",
    "    \n",
    "    if start is None:\n",
    "        raise ValueError(\"No row with index == 1 found\")\n",
    "    \n",
    "    # Slice the subarray of length num_tokens (if enough rows exist)\n",
    "    end = start + num_tokens\n",
    "    if end > len(beats):\n",
    "        raise ValueError(\"Not enough rows to get num_tokens elements starting at index==1\")\n",
    "    \n",
    "    return beats[start:end]\n",
    "\n",
    "important_beats = get_important_beats(beats, num_tokens)\n",
    "important_beats"
   ]
  },
  {
   "cell_type": "code",
   "execution_count": 29,
   "id": "4b607b24-8ee5-4036-bfe2-b1bf864a9847",
   "metadata": {},
   "outputs": [
    {
     "data": {
      "text/plain": [
       "[['1.74', '1.0', '-', '1', '1--'],\n",
       " ['2.2', '2.0', '-', '2', '2--'],\n",
       " ['2.68', '3.0', '-', '3', '3--'],\n",
       " ['3.12', '4.0', '-', '4', '4--'],\n",
       " ['3.6', '1.0', '-', '5', '5--'],\n",
       " ['4.06', '2.0', '-', '6', '6--'],\n",
       " ['4.52', '3.0', '-', '7', '7--'],\n",
       " ['4.98', '4.0', '-', '8', '8--'],\n",
       " ['5.44', '1.0', '-', '1', '1--'],\n",
       " ['5.9', '2.0', '-', '2', '2--'],\n",
       " ['6.36', '3.0', '-', '3', '3--'],\n",
       " ['6.8', '4.0', '-', '4', '4--'],\n",
       " ['7.3', '1.0', '*', '5', '5-*'],\n",
       " ['7.76', '2.0', '-', '6', '6--'],\n",
       " ['8.2', '3.0', '-', '7', '7--'],\n",
       " ['8.66', '4.0', '-', '8', '8--'],\n",
       " ['9.14', '1.0', '-', '1', '1--'],\n",
       " ['9.6', '2.0', '-', '2', '2--'],\n",
       " ['10.06', '3.0', '-', '3', '3--'],\n",
       " ['10.52', '4.0', '-', '4', '4--'],\n",
       " ['10.98', '1.0', '-', '5', '5--'],\n",
       " ['11.44', '2.0', '-', '6', '6--'],\n",
       " ['11.9', '3.0', '-', '7', '7--'],\n",
       " ['12.36', '4.0', '-', '8', '8--'],\n",
       " ['12.82', '1.0', '-', '1', '1--'],\n",
       " ['13.28', '2.0', '-', '2', '2--'],\n",
       " ['13.74', '3.0', '-', '3', '3--'],\n",
       " ['14.2', '4.0', '-', '4', '4--'],\n",
       " ['14.66', '1.0', '#4', '5', '5-#4'],\n",
       " ['15.14', '2.0', '-', '6', '6--'],\n",
       " ['15.6', '3.0', '-', '7', '7--'],\n",
       " ['16.06', '4.0', '-', '8', '8--']]"
      ]
     },
     "execution_count": 29,
     "metadata": {},
     "output_type": "execute_result"
    }
   ],
   "source": [
    "import numpy as np\n",
    "beats_array = [(x % 8) + 1 for x in range(num_tokens)]\n",
    "selected_beats = np.column_stack((important_beats, musical_tokens, beats_array, [f'{beats_array[index]}-{musical_tokens[index]}' for  index in range(num_tokens)])).tolist()\n",
    "selected_beats"
   ]
  }
 ],
 "metadata": {
  "kernelspec": {
   "display_name": "Python [conda env:base] *",
   "language": "python",
   "name": "conda-base-py"
  },
  "language_info": {
   "codemirror_mode": {
    "name": "ipython",
    "version": 3
   },
   "file_extension": ".py",
   "mimetype": "text/x-python",
   "name": "python",
   "nbconvert_exporter": "python",
   "pygments_lexer": "ipython3",
   "version": "3.12.7"
  }
 },
 "nbformat": 4,
 "nbformat_minor": 5
}
